{
  "nbformat": 4,
  "nbformat_minor": 0,
  "metadata": {
    "colab": {
      "provenance": [],
      "gpuType": "T4",
      "include_colab_link": true
    },
    "kernelspec": {
      "name": "python3",
      "display_name": "Python 3"
    },
    "language_info": {
      "name": "python"
    },
    "accelerator": "GPU",
    "gpuClass": "standard"
  },
  "cells": [
    {
      "cell_type": "markdown",
      "metadata": {
        "id": "view-in-github",
        "colab_type": "text"
      },
      "source": [
        "<a href=\"https://colab.research.google.com/github/rraghu214/mnist_digit_recognition/blob/main/ERA_Session_4_Raghu_ref1_26KParams_97Accuracy.ipynb\" target=\"_parent\"><img src=\"https://colab.research.google.com/assets/colab-badge.svg\" alt=\"Open In Colab\"/></a>"
      ]
    },
    {
      "cell_type": "markdown",
      "source": [
        "CODE BLOCK: 1"
      ],
      "metadata": {
        "id": "n09vaEgP6pLj"
      }
    },
    {
      "cell_type": "code",
      "execution_count": 1,
      "metadata": {
        "id": "6PlbomWY3RSq"
      },
      "outputs": [],
      "source": [
        "import torch\n",
        "import torch.nn as nn\n",
        "import torch.nn.functional as F\n",
        "import torch.optim as optim\n",
        "from torchvision import datasets, transforms"
      ]
    },
    {
      "cell_type": "markdown",
      "source": [
        "CODE BLOCK: 2"
      ],
      "metadata": {
        "id": "VjBHHQVA6sXt"
      }
    },
    {
      "cell_type": "code",
      "source": [
        "# CUDA?\n",
        "cuda = torch.cuda.is_available()\n",
        "print(\"CUDA Available?\", cuda)"
      ],
      "metadata": {
        "colab": {
          "base_uri": "https://localhost:8080/"
        },
        "id": "94BxVVBP3WwS",
        "outputId": "73f02f18-a7f9-4ac3-cd3e-fc8434c56ff0"
      },
      "execution_count": 2,
      "outputs": [
        {
          "output_type": "stream",
          "name": "stdout",
          "text": [
            "CUDA Available? True\n"
          ]
        }
      ]
    },
    {
      "cell_type": "markdown",
      "source": [
        "CODE BLOCK: 3"
      ],
      "metadata": {
        "id": "3UHq59Sw6tmW"
      }
    },
    {
      "cell_type": "code",
      "source": [
        "# Train data transformations\n",
        "train_transforms = transforms.Compose([\n",
        "    transforms.RandomApply([transforms.CenterCrop(22), ], p=0.1),\n",
        "    transforms.Resize((28, 28)),\n",
        "    transforms.RandomRotation((-15., 15.), fill=0),\n",
        "    transforms.ToTensor(),\n",
        "    transforms.Normalize((0.1307,), (0.3081,)),\n",
        "    ])\n",
        "\n",
        "# Test data transformations\n",
        "test_transforms = transforms.Compose([\n",
        "    transforms.ToTensor(),\n",
        "    transforms.Normalize((0.1307,), (0.3081,))\n",
        "    ])"
      ],
      "metadata": {
        "id": "KpshQ2Ug38m2"
      },
      "execution_count": 3,
      "outputs": []
    },
    {
      "cell_type": "markdown",
      "source": [
        "CODE BLOCK: 4"
      ],
      "metadata": {
        "id": "zQm17pM46zHL"
      }
    },
    {
      "cell_type": "code",
      "source": [
        "train_data = datasets.MNIST('../data', train=True, download=True, transform=train_transforms)\n",
        "test_data = datasets.MNIST('../data', train=False, download=True, transform=test_transforms)"
      ],
      "metadata": {
        "id": "JB79ZYW13-AO"
      },
      "execution_count": 4,
      "outputs": []
    },
    {
      "cell_type": "markdown",
      "source": [
        "CODE BLOCK: 5"
      ],
      "metadata": {
        "id": "_PKSHxto6116"
      }
    },
    {
      "cell_type": "code",
      "source": [
        "batch_size = 64\n",
        "\n",
        "kwargs = {'batch_size': batch_size, 'shuffle': True, 'num_workers': 2, 'pin_memory': True}\n",
        "kwargs_test = {'batch_size': batch_size, 'shuffle': False, 'num_workers': 2, 'pin_memory': True}\n",
        "\n",
        "test_loader = torch.utils.data.DataLoader(test_data, **kwargs_test)\n",
        "train_loader = torch.utils.data.DataLoader(train_data, **kwargs)"
      ],
      "metadata": {
        "id": "avCKK1uL4A68"
      },
      "execution_count": 5,
      "outputs": []
    },
    {
      "cell_type": "markdown",
      "source": [
        "CODE BLOCK: 6"
      ],
      "metadata": {
        "id": "Hi_0rfq56-29"
      }
    },
    {
      "cell_type": "code",
      "source": [
        "import matplotlib.pyplot as plt\n",
        "\n",
        "batch_data, batch_label = next(iter(train_loader))\n",
        "\n",
        "fig = plt.figure()\n",
        "\n",
        "for i in range(12):\n",
        "  plt.subplot(3,4,i+1)\n",
        "  plt.tight_layout()\n",
        "  plt.imshow(batch_data[i].squeeze(0), cmap='gray')\n",
        "  plt.title(batch_label[i].item())\n",
        "  plt.xticks([])\n",
        "  plt.yticks([])"
      ],
      "metadata": {
        "colab": {
          "base_uri": "https://localhost:8080/",
          "height": 463
        },
        "id": "Hx7QkLcw4Epc",
        "outputId": "d5203b50-9cda-48c4-c3d0-968e7b222872"
      },
      "execution_count": 6,
      "outputs": [
        {
          "output_type": "display_data",
          "data": {
            "text/plain": [
              "<Figure size 640x480 with 12 Axes>"
            ],
            "image/png": "[encoded data removed]"
          },
          "metadata": {}
        }
      ]
    },
    {
      "cell_type": "markdown",
      "source": [
        "\n",
        "\n",
        "CODE BLOCK: 7"
      ],
      "metadata": {
        "id": "y3XbVJSb7Aee"
      }
    },
    {
      "cell_type": "code",
      "source": [
        "# class Net(nn.Module):\n",
        "#     #This defines the structure of the NN.\n",
        "#     def __init__(self):\n",
        "#         super(Net, self).__init__()\n",
        "#         self.conv1 = nn.Conv2d(1, 32, kernel_size=3)\n",
        "#         self.conv2 = nn.Conv2d(32, 64, kernel_size=3)\n",
        "#         self.conv3 = nn.Conv2d(64, 128, kernel_size=3)\n",
        "#         self.conv4 = nn.Conv2d(128, 256, kernel_size=3)\n",
        "#         self.fc1 = nn.Linear(256*4*4, 50)\n",
        "#         # self.fc1 = nn.Linear(128, 50)\n",
        "#         self.fc2 = nn.Linear(50, 10)\n",
        "\n",
        "#     def forward(self, x):\n",
        "#         x = F.relu(self.conv1(x), 2)\n",
        "#         x = F.relu(F.max_pool2d(self.conv2(x), 2))\n",
        "#         x = F.relu(self.conv3(x), 2)\n",
        "#         x = F.relu(F.max_pool2d(self.conv4(x), 2))\n",
        "#         print(x.shape)\n",
        "#         # x = x.view(-1, 320)\n",
        "#         x = x.view(x.size(0), -1)  # flatten\n",
        "#         x = F.relu(self.fc1(x))\n",
        "#         x = self.fc2(x)\n",
        "#         return F.log_softmax(x, dim=1)"
      ],
      "metadata": {
        "id": "UHBolvMH4F8y"
      },
      "execution_count": 7,
      "outputs": []
    },
    {
      "cell_type": "markdown",
      "source": [
        "CODE BLOCK:7-A"
      ],
      "metadata": {
        "id": "UWamGIG5QhQ5"
      }
    },
    {
      "cell_type": "code",
      "source": [
        "# class Net(nn.Module):\n",
        "#     def __init__(self):\n",
        "#         super(Net, self).__init__()\n",
        "#         self.conv1 = nn.Conv2d(1, 8, kernel_size=3, padding=1)   # 1 → 8\n",
        "#         self.conv2 = nn.Conv2d(8, 16, kernel_size=3, padding=1)  # 8 → 16\n",
        "#         self.pool = nn.MaxPool2d(2, 2)\n",
        "#         self.fc1 = nn.Linear(16*7*7, 10)  # after two poolings: 28→14→7\n",
        "\n",
        "#     def forward(self, x):\n",
        "#         x = self.pool(F.relu(self.conv1(x)))  # [batch, 8, 14, 14]\n",
        "#         x = self.pool(F.relu(self.conv2(x)))  # [batch, 16, 7, 7]\n",
        "#         x = torch.flatten(x, 1)               # [batch, 16*7*7]\n",
        "#         x = self.fc1(x)                       # [batch, 10]\n",
        "#         return F.log_softmax(x, dim=1)"
      ],
      "metadata": {
        "id": "ywDYkzFDQZjw"
      },
      "execution_count": 8,
      "outputs": []
    },
    {
      "cell_type": "markdown",
      "source": [
        "Epoch 1\n",
        "Train: Loss=223.2571 Batch_id=117 Accuracy=10.25: 100%|██████████| 118/118 [00:20<00:00,  5.85it/s]\n",
        "Test set: Average loss: 2.3317, Accuracy: 5851/60000 (9.75%)\n",
        "\n",
        "Epoch 2\n",
        "Train: Loss=219.6511 Batch_id=117 Accuracy=10.16: 100%|██████████| 118/118 [00:17<00:00,  6.64it/s]\n",
        "Test set: Average loss: 2.3535, Accuracy: 6742/60000 (11.24%)\n",
        "\n",
        "Epoch 3\n",
        "Train: Loss=221.7430 Batch_id=117 Accuracy=10.40: 100%|██████████| 118/118 [00:18<00:00,  6.31it/s]\n",
        "Test set: Average loss: 2.3301, Accuracy: 5949/60000 (9.91%)\n",
        "\n",
        "Epoch 4\n",
        "Train: Loss=222.4325 Batch_id=117 Accuracy=10.20: 100%|██████████| 118/118 [00:18<00:00,  6.55it/s]\n",
        "Test set: Average loss: 2.3282, Accuracy: 5923/60000 (9.87%)\n",
        "\n",
        "Epoch 5\n",
        "Train: Loss=224.0293 Batch_id=117 Accuracy=10.48: 100%|██████████| 118/118 [00:17<00:00,  6.59it/s]\n",
        "Test set: Average loss: 2.3329, Accuracy: 6265/60000 (10.44%)\n",
        "\n",
        "Epoch 6\n",
        "Train: Loss=221.3869 Batch_id=117 Accuracy=10.48: 100%|██████████| 118/118 [00:18<00:00,  6.25it/s]\n",
        "Test set: Average loss: 2.3103, Accuracy: 5923/60000 (9.87%)\n",
        "\n",
        "Epoch 7\n",
        "Train: Loss=223.7734 Batch_id=117 Accuracy=10.06: 100%|██████████| 118/118 [00:18<00:00,  6.44it/s]\n",
        "Test set: Average loss: 2.3328, Accuracy: 5918/60000 (9.86%)\n",
        "\n",
        "Epoch 8\n",
        "Train: Loss=221.4380 Batch_id=117 Accuracy=10.44: 100%|██████████| 118/118 [00:17<00:00,  6.58it/s]\n",
        "Test set: Average loss: 2.3331, Accuracy: 5918/60000 (9.86%)\n",
        "\n",
        "Epoch 9\n",
        "Train: Loss=218.2651 Batch_id=117 Accuracy=10.49: 100%|██████████| 118/118 [00:17<00:00,  6.57it/s]\n",
        "Test set: Average loss: 2.3624, Accuracy: 5918/60000 (9.86%)\n",
        "\n",
        "Epoch 10\n",
        "Train: Loss=220.2719 Batch_id=117 Accuracy=10.25: 100%|██████████| 118/118 [00:18<00:00,  6.35it/s]\n",
        "Test set: Average loss: 2.3333, Accuracy: 6742/60000 (11.24%)"
      ],
      "metadata": {
        "id": "ApNNc-siX66j"
      }
    },
    {
      "cell_type": "markdown",
      "source": [
        "CODE BLOCK:7-B"
      ],
      "metadata": {
        "id": "ed6bSKLFXy1z"
      }
    },
    {
      "cell_type": "code",
      "source": [
        "# class Net(nn.Module):\n",
        "#     def __init__(self):\n",
        "#         super(Net, self).__init__()\n",
        "#         self.conv1 = nn.Conv2d(1, 16, kernel_size=3, padding=1)   # 1 → 16\n",
        "#         self.conv2 = nn.Conv2d(16, 32, kernel_size=3, padding=1)  # 16 → 32\n",
        "#         self.pool = nn.MaxPool2d(2, 2)\n",
        "#         self.fc1 = nn.Linear(32*7*7, 10)  # after two poolings: 28→14→7\n",
        "\n",
        "#     def forward(self, x):\n",
        "#         x = self.pool(F.relu(self.conv1(x)))  # [batch, 16, 14, 14]\n",
        "#         x = self.pool(F.relu(self.conv2(x)))  # [batch, 32, 7, 7]\n",
        "#         x = torch.flatten(x, 1)               # [batch, 64*7*7]\n",
        "#         x = self.fc1(x)                       # [batch, 10]\n",
        "#         return F.log_softmax(x, dim=1)"
      ],
      "metadata": {
        "id": "fimMIiniX1LW"
      },
      "execution_count": 9,
      "outputs": []
    },
    {
      "cell_type": "markdown",
      "source": [
        "```\n",
        "class Net(nn.Module):\n",
        "    def __init__(self):\n",
        "        super(Net, self).__init__()\n",
        "        self.conv1 = nn.Conv2d(1, 16, kernel_size=3, padding=1)   # 1 → 16\n",
        "        self.conv2 = nn.Conv2d(16, 32, kernel_size=3, padding=1)  # 16 → 32\n",
        "        self.pool = nn.MaxPool2d(2, 2)\n",
        "        self.fc1 = nn.Linear(32*7*7, 10)  # after two poolings: 28→14→7\n",
        "\n",
        "    def forward(self, x):\n",
        "        x = self.pool(F.relu(self.conv1(x)))  # [batch, 16, 14, 14]\n",
        "        x = self.pool(F.relu(self.conv2(x)))  # [batch, 32, 7, 7]\n",
        "        x = torch.flatten(x, 1)               # [batch, 64*7*7]\n",
        "        x = self.fc1(x)                       # [batch, 10]\n",
        "        return F.log_softmax(x, dim=1)\n",
        "```\n",
        "Epoch 1\n",
        "Train: Loss=222.1362 Batch_id=117 Accuracy=10.14: 100%|██████████| 118/118 [00:17<00:00,  6.76it/s]\n",
        "Test set: Average loss: 2.3690, Accuracy: 5958/60000 (9.93%)"
      ],
      "metadata": {
        "id": "eQtz60fcY8Fn"
      }
    },
    {
      "cell_type": "markdown",
      "source": [
        "CODE BLOCK-7C"
      ],
      "metadata": {
        "id": "rTNG7Z5tZcK1"
      }
    },
    {
      "cell_type": "code",
      "source": [
        "class Net(nn.Module):\n",
        "    def __init__(self):\n",
        "        super(Net, self).__init__()\n",
        "        self.conv1 = nn.Conv2d(1, 16, kernel_size=3, padding=1)   # 1 → 16\n",
        "        self.pool = nn.MaxPool2d(2, 2)\n",
        "\n",
        "        self.conv2 = nn.Conv2d(16, 32, kernel_size=3, padding=1)  # 16 → 32\n",
        "        self.conv1x1_1 = nn.Conv2d(32, 16, kernel_size=1)         # shrink channels\n",
        "\n",
        "        self.conv3 = nn.Conv2d(16, 32, kernel_size=3, padding=1)  # back to 32\n",
        "        self.conv1x1_2 = nn.Conv2d(32, 32, kernel_size=1)         # refine features\n",
        "\n",
        "        self.fc1 = nn.Linear(32*7*7, 10)  # after 2 poolings: 28→14→7\n",
        "\n",
        "    def forward(self, x):\n",
        "        # First block\n",
        "        x = self.pool(F.relu(self.conv1(x)))   # [batch, 16, 14, 14]\n",
        "\n",
        "        # Second block\n",
        "        x = self.pool(F.relu(self.conv2(x)))   # [batch, 32, 7, 7]\n",
        "        x = F.relu(self.conv1x1_1(x))          # [batch, 16, 7, 7]\n",
        "\n",
        "        # Third block\n",
        "        x = F.relu(self.conv3(x))              # [batch, 32, 7, 7]\n",
        "        x = F.relu(self.conv1x1_2(x))          # [batch, 32, 7, 7]\n",
        "\n",
        "        # Flatten + FC\n",
        "        x = torch.flatten(x, 1)                # [batch, 32*7*7]\n",
        "        x = self.fc1(x)\n",
        "        return F.log_softmax(x, dim=1)"
      ],
      "metadata": {
        "id": "A-d2S8pyZd8w"
      },
      "execution_count": 10,
      "outputs": []
    },
    {
      "cell_type": "markdown",
      "source": [
        "```\n",
        "Requirement already satisfied: torchsummary in /usr/local/lib/python3.12/dist-packages (1.5.1)\n",
        "----------------------------------------------------------------\n",
        "        Layer (type)               Output Shape         Param #\n",
        "================================================================\n",
        "            Conv2d-1           [-1, 16, 28, 28]             160\n",
        "         MaxPool2d-2           [-1, 16, 14, 14]               0\n",
        "            Conv2d-3           [-1, 32, 14, 14]           4,640\n",
        "         MaxPool2d-4             [-1, 32, 7, 7]               0\n",
        "            Conv2d-5             [-1, 16, 7, 7]             528\n",
        "            Conv2d-6             [-1, 32, 7, 7]           4,640\n",
        "            Conv2d-7             [-1, 32, 7, 7]           1,056\n",
        "            Linear-8                   [-1, 10]          15,690\n",
        "================================================================\n",
        "Total params: 26,714\n",
        "Trainable params: 26,714\n",
        "Non-trainable params: 0\n",
        "----------------------------------------------------------------\n",
        "Input size (MB): 0.00\n",
        "Forward/backward pass size (MB): 0.21\n",
        "Params size (MB): 0.10\n",
        "Estimated Total Size (MB): 0.31\n",
        "----------------------------------------------------------------\n",
        "```\n",
        "\n",
        "Epoch 1\n",
        "Train: Loss=nan Batch_id=117 Accuracy=9.85: 100%|██████████| 118/118 [00:17<00:00,  6.76it/s]\n",
        "Test set: Average loss: nan, Accuracy: 5923/60000 (9.87%)"
      ],
      "metadata": {
        "id": "TXmQJ8SMZy8s"
      }
    },
    {
      "cell_type": "markdown",
      "source": [
        "\n",
        "\n",
        "CODE BLOCK: 8"
      ],
      "metadata": {
        "id": "89gd4_s7AO2y"
      }
    },
    {
      "cell_type": "code",
      "source": [
        "# Data to plot accuracy and loss graphs\n",
        "train_losses = []\n",
        "test_losses = []\n",
        "train_acc = []\n",
        "test_acc = []\n",
        "\n",
        "test_incorrect_pred = {'images': [], 'ground_truths': [], 'predicted_vals': []}"
      ],
      "metadata": {
        "id": "7du4zM474LvT"
      },
      "execution_count": 11,
      "outputs": []
    },
    {
      "cell_type": "markdown",
      "source": [
        "CODE BLOCK: 9"
      ],
      "metadata": {
        "id": "kCwIPHqwAQgB"
      }
    },
    {
      "cell_type": "code",
      "source": [
        "\n",
        "from tqdm import tqdm\n",
        "\n",
        "def GetCorrectPredCount(pPrediction, pLabels):\n",
        "  return pPrediction.argmax(dim=1).eq(pLabels).sum().item()\n",
        "\n",
        "def train(model, device, train_loader, optimizer, criterion):\n",
        "  model.train()\n",
        "  pbar = tqdm(train_loader)\n",
        "\n",
        "  train_loss = 0\n",
        "  correct = 0\n",
        "  processed = 0\n",
        "\n",
        "  for batch_idx, (data, target) in enumerate(pbar):\n",
        "    data, target = data.to(device), target.to(device)\n",
        "    optimizer.zero_grad()\n",
        "\n",
        "    # Predict\n",
        "    pred = model(data)\n",
        "\n",
        "    # Calculate loss\n",
        "    loss = criterion(pred, target)\n",
        "    train_loss+=loss.item()\n",
        "\n",
        "    # Backpropagation\n",
        "    loss.backward()\n",
        "    optimizer.step()\n",
        "\n",
        "    correct += GetCorrectPredCount(pred, target)\n",
        "    processed += len(data)\n",
        "\n",
        "    pbar.set_description(desc= f'Train: Loss={loss.item():0.4f} Batch_id={batch_idx} Accuracy={100*correct/processed:0.2f}')\n",
        "\n",
        "  train_acc.append(100*correct/processed)\n",
        "  train_losses.append(train_loss/len(train_loader))\n",
        "\n",
        "def test(model, device, test_loader, criterion):\n",
        "    model.eval()\n",
        "\n",
        "    test_loss = 0\n",
        "    correct = 0\n",
        "\n",
        "    with torch.no_grad():\n",
        "        for batch_idx, (data, target) in enumerate(test_loader):\n",
        "            data, target = data.to(device), target.to(device)\n",
        "\n",
        "            output = model(data)\n",
        "            # test_loss += criterion(output, target, reduction='sum').item()  # sum up batch loss\n",
        "            test_loss += criterion(output, target).item()  # sum up batch loss\n",
        "\n",
        "            correct += GetCorrectPredCount(output, target)\n",
        "\n",
        "\n",
        "    test_loss /= len(test_loader.dataset)\n",
        "    test_acc.append(100. * correct / len(test_loader.dataset))\n",
        "    test_losses.append(test_loss)\n",
        "\n",
        "    print('Test set: Average loss: {:.4f}, Accuracy: {}/{} ({:.2f}%)\\n'.format(\n",
        "        test_loss, correct, len(test_loader.dataset),\n",
        "        100. * correct / len(test_loader.dataset)))\n"
      ],
      "metadata": {
        "id": "gpNw3-sy4QGd"
      },
      "execution_count": 12,
      "outputs": []
    },
    {
      "cell_type": "markdown",
      "source": [
        "CODE BLOCK: 10"
      ],
      "metadata": {
        "id": "09GYKBGRAT5M"
      }
    },
    {
      "cell_type": "code",
      "source": [
        "device = torch.device(\"cuda\" if torch.cuda.is_available() else \"cpu\")"
      ],
      "metadata": {
        "id": "EslS5xIMF8Ta"
      },
      "execution_count": 13,
      "outputs": []
    },
    {
      "cell_type": "code",
      "source": [
        "import torch\n",
        "print(torch.__version__)"
      ],
      "metadata": {
        "colab": {
          "base_uri": "https://localhost:8080/"
        },
        "id": "TJ7DIYc5jJSo",
        "outputId": "76bb06c0-cda0-4485-bfc1-d310d83afcd0"
      },
      "execution_count": 14,
      "outputs": [
        {
          "output_type": "stream",
          "name": "stdout",
          "text": [
            "2.8.0+cu126\n"
          ]
        }
      ]
    },
    {
      "cell_type": "code",
      "source": [
        "model = Net().to(device)\n",
        "# optimizer = optim.SGD(model.parameters(), lr=0.01, momentum=0.9)\n",
        "optimizer = optim.Adam(model.parameters(), lr=0.001)\n",
        "scheduler = optim.lr_scheduler.StepLR(optimizer, step_size=15, gamma=0.1 )\n",
        "# New Line\n",
        "# criterion = nn.CrossEntropyLoss(reduction='sum')\n",
        "criterion = nn.CrossEntropyLoss()\n",
        "num_epochs = 1\n",
        "\n",
        "for epoch in range(1, num_epochs+1):\n",
        "  print(f'Epoch {epoch}')\n",
        "  train(model, device, train_loader, optimizer, criterion)\n",
        "  test(model, device, train_loader, criterion)\n",
        "  scheduler.step()"
      ],
      "metadata": {
        "colab": {
          "base_uri": "https://localhost:8080/"
        },
        "id": "Owqiet9M4TV7",
        "outputId": "4d692cf0-a5eb-41e4-edb8-a52c18639193"
      },
      "execution_count": 15,
      "outputs": [
        {
          "output_type": "stream",
          "name": "stdout",
          "text": [
            "Epoch 1\n"
          ]
        },
        {
          "output_type": "stream",
          "name": "stderr",
          "text": [
            "Train: Loss=0.1452 Batch_id=937 Accuracy=91.75: 100%|██████████| 938/938 [00:23<00:00, 39.22it/s]\n"
          ]
        },
        {
          "output_type": "stream",
          "name": "stdout",
          "text": [
            "Test set: Average loss: 0.0015, Accuracy: 58214/60000 (97.02%)\n",
            "\n"
          ]
        }
      ]
    },
    {
      "cell_type": "markdown",
      "source": [
        "Epoch 1\n",
        "Train: Loss=0.5895 Batch_id=117 Accuracy=46.65: 100%|██████████| 118/118 [00:17<00:00,  6.63it/s]\n",
        "Test set: Average loss: 0.0012, Accuracy: 49258/60000 (82.10%)"
      ],
      "metadata": {
        "id": "ndN4264CchUu"
      }
    },
    {
      "cell_type": "markdown",
      "source": [
        "CODE BLOCK: 11"
      ],
      "metadata": {
        "id": "B-LM-Z1k6FcF"
      }
    },
    {
      "cell_type": "code",
      "source": [
        "fig, axs = plt.subplots(2,2,figsize=(15,10))\n",
        "axs[0, 0].plot(train_losses)\n",
        "axs[0, 0].set_title(\"Training Loss\")\n",
        "axs[1, 0].plot(train_acc)\n",
        "axs[1, 0].set_title(\"Training Accuracy\")\n",
        "axs[0, 1].plot(test_losses)\n",
        "axs[0, 1].set_title(\"Test Loss\")\n",
        "axs[1, 1].plot(test_acc)\n",
        "axs[1, 1].set_title(\"Test Accuracy\")"
      ],
      "metadata": {
        "id": "Wu0l7dli4eC9",
        "colab": {
          "base_uri": "https://localhost:8080/",
          "height": 870
        },
        "outputId": "a674dc6a-6f4e-4282-8bd7-f3b38234999d"
      },
      "execution_count": 16,
      "outputs": [
        {
          "output_type": "execute_result",
          "data": {
            "text/plain": [
              "Text(0.5, 1.0, 'Test Accuracy')"
            ]
          },
          "metadata": {},
          "execution_count": 16
        },
        {
          "output_type": "display_data",
          "data": {
            "text/plain": [
              "<Figure size 1500x1000 with 4 Axes>"
            ],
            "image/png": "[encoded data removed]"
          },
          "metadata": {}
        }
      ]
    },
    {
      "cell_type": "code",
      "source": [
        "!pip install torchsummary\n",
        "from torchsummary import summary\n",
        "use_cuda = torch.cuda.is_available()\n",
        "device = torch.device(\"cuda\" if use_cuda else \"cpu\")\n",
        "model = Net().to(device)\n",
        "summary(model, input_size=(1, 28, 28))"
      ],
      "metadata": {
        "id": "C8WZPfXe4iK_",
        "colab": {
          "base_uri": "https://localhost:8080/"
        },
        "outputId": "ac4d89e9-9fec-466e-afc4-54a6ce3eaecb"
      },
      "execution_count": 17,
      "outputs": [
        {
          "output_type": "stream",
          "name": "stdout",
          "text": [
            "Requirement already satisfied: torchsummary in /usr/local/lib/python3.12/dist-packages (1.5.1)\n",
            "----------------------------------------------------------------\n",
            "        Layer (type)               Output Shape         Param #\n",
            "================================================================\n",
            "            Conv2d-1           [-1, 16, 28, 28]             160\n",
            "         MaxPool2d-2           [-1, 16, 14, 14]               0\n",
            "            Conv2d-3           [-1, 32, 14, 14]           4,640\n",
            "         MaxPool2d-4             [-1, 32, 7, 7]               0\n",
            "            Conv2d-5             [-1, 16, 7, 7]             528\n",
            "            Conv2d-6             [-1, 32, 7, 7]           4,640\n",
            "            Conv2d-7             [-1, 32, 7, 7]           1,056\n",
            "            Linear-8                   [-1, 10]          15,690\n",
            "================================================================\n",
            "Total params: 26,714\n",
            "Trainable params: 26,714\n",
            "Non-trainable params: 0\n",
            "----------------------------------------------------------------\n",
            "Input size (MB): 0.00\n",
            "Forward/backward pass size (MB): 0.21\n",
            "Params size (MB): 0.10\n",
            "Estimated Total Size (MB): 0.31\n",
            "----------------------------------------------------------------\n"
          ]
        }
      ]
    }
  ]
}